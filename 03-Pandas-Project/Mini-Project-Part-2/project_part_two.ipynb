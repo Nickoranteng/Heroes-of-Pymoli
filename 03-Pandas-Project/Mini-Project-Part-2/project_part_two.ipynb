{
 "cells": [
  {
   "cell_type": "code",
   "execution_count": 15,
   "metadata": {},
   "outputs": [],
   "source": [
    "# Dependencies\n",
    "import pandas as pd"
   ]
  },
  {
   "cell_type": "code",
   "execution_count": 16,
   "metadata": {},
   "outputs": [],
   "source": [
    "# load CSV\n",
    "file = \"/Users/nicko/Python-Pandas-Challenge/03-Pandas-Project/Mini-Project-Part-1/Resources/2016-FCC-New-Coders-Survey-Data.csv\""
   ]
  },
  {
   "cell_type": "code",
   "execution_count": 18,
   "metadata": {
    "scrolled": true
   },
   "outputs": [
    {
     "data": {
      "text/html": [
       "<div>\n",
       "<style scoped>\n",
       "    .dataframe tbody tr th:only-of-type {\n",
       "        vertical-align: middle;\n",
       "    }\n",
       "\n",
       "    .dataframe tbody tr th {\n",
       "        vertical-align: top;\n",
       "    }\n",
       "\n",
       "    .dataframe thead th {\n",
       "        text-align: right;\n",
       "    }\n",
       "</style>\n",
       "<table border=\"1\" class=\"dataframe\">\n",
       "  <thead>\n",
       "    <tr style=\"text-align: right;\">\n",
       "      <th></th>\n",
       "      <th>Age</th>\n",
       "      <th>AttendedBootcamp</th>\n",
       "      <th>BootcampFinish</th>\n",
       "      <th>BootcampFullJobAfter</th>\n",
       "      <th>BootcampLoanYesNo</th>\n",
       "      <th>BootcampMonthsAgo</th>\n",
       "      <th>BootcampName</th>\n",
       "      <th>BootcampPostSalary</th>\n",
       "      <th>BootcampRecommend</th>\n",
       "      <th>ChildrenNumber</th>\n",
       "      <th>...</th>\n",
       "      <th>ResourceSoloLearn</th>\n",
       "      <th>ResourceStackOverflow</th>\n",
       "      <th>ResourceTreehouse</th>\n",
       "      <th>ResourceUdacity</th>\n",
       "      <th>ResourceUdemy</th>\n",
       "      <th>ResourceW3Schools</th>\n",
       "      <th>ResourceYouTube</th>\n",
       "      <th>SchoolDegree</th>\n",
       "      <th>SchoolMajor</th>\n",
       "      <th>StudentDebtOwe</th>\n",
       "    </tr>\n",
       "  </thead>\n",
       "  <tbody>\n",
       "    <tr>\n",
       "      <th>0</th>\n",
       "      <td>28.0</td>\n",
       "      <td>0.0</td>\n",
       "      <td>NaN</td>\n",
       "      <td>NaN</td>\n",
       "      <td>NaN</td>\n",
       "      <td>NaN</td>\n",
       "      <td>NaN</td>\n",
       "      <td>NaN</td>\n",
       "      <td>NaN</td>\n",
       "      <td>NaN</td>\n",
       "      <td>...</td>\n",
       "      <td>NaN</td>\n",
       "      <td>NaN</td>\n",
       "      <td>NaN</td>\n",
       "      <td>NaN</td>\n",
       "      <td>NaN</td>\n",
       "      <td>NaN</td>\n",
       "      <td>NaN</td>\n",
       "      <td>some college credit, no degree</td>\n",
       "      <td>NaN</td>\n",
       "      <td>20000.0</td>\n",
       "    </tr>\n",
       "    <tr>\n",
       "      <th>1</th>\n",
       "      <td>22.0</td>\n",
       "      <td>0.0</td>\n",
       "      <td>NaN</td>\n",
       "      <td>NaN</td>\n",
       "      <td>NaN</td>\n",
       "      <td>NaN</td>\n",
       "      <td>NaN</td>\n",
       "      <td>NaN</td>\n",
       "      <td>NaN</td>\n",
       "      <td>NaN</td>\n",
       "      <td>...</td>\n",
       "      <td>NaN</td>\n",
       "      <td>NaN</td>\n",
       "      <td>NaN</td>\n",
       "      <td>NaN</td>\n",
       "      <td>1.0</td>\n",
       "      <td>NaN</td>\n",
       "      <td>NaN</td>\n",
       "      <td>some college credit, no degree</td>\n",
       "      <td>NaN</td>\n",
       "      <td>NaN</td>\n",
       "    </tr>\n",
       "    <tr>\n",
       "      <th>2</th>\n",
       "      <td>19.0</td>\n",
       "      <td>0.0</td>\n",
       "      <td>NaN</td>\n",
       "      <td>NaN</td>\n",
       "      <td>NaN</td>\n",
       "      <td>NaN</td>\n",
       "      <td>NaN</td>\n",
       "      <td>NaN</td>\n",
       "      <td>NaN</td>\n",
       "      <td>NaN</td>\n",
       "      <td>...</td>\n",
       "      <td>NaN</td>\n",
       "      <td>NaN</td>\n",
       "      <td>NaN</td>\n",
       "      <td>NaN</td>\n",
       "      <td>NaN</td>\n",
       "      <td>NaN</td>\n",
       "      <td>NaN</td>\n",
       "      <td>high school diploma or equivalent (GED)</td>\n",
       "      <td>NaN</td>\n",
       "      <td>NaN</td>\n",
       "    </tr>\n",
       "    <tr>\n",
       "      <th>3</th>\n",
       "      <td>26.0</td>\n",
       "      <td>0.0</td>\n",
       "      <td>NaN</td>\n",
       "      <td>NaN</td>\n",
       "      <td>NaN</td>\n",
       "      <td>NaN</td>\n",
       "      <td>NaN</td>\n",
       "      <td>NaN</td>\n",
       "      <td>NaN</td>\n",
       "      <td>NaN</td>\n",
       "      <td>...</td>\n",
       "      <td>NaN</td>\n",
       "      <td>NaN</td>\n",
       "      <td>NaN</td>\n",
       "      <td>NaN</td>\n",
       "      <td>NaN</td>\n",
       "      <td>NaN</td>\n",
       "      <td>NaN</td>\n",
       "      <td>bachelor's degree</td>\n",
       "      <td>Cinematography And Film</td>\n",
       "      <td>7000.0</td>\n",
       "    </tr>\n",
       "    <tr>\n",
       "      <th>4</th>\n",
       "      <td>20.0</td>\n",
       "      <td>0.0</td>\n",
       "      <td>NaN</td>\n",
       "      <td>NaN</td>\n",
       "      <td>NaN</td>\n",
       "      <td>NaN</td>\n",
       "      <td>NaN</td>\n",
       "      <td>NaN</td>\n",
       "      <td>NaN</td>\n",
       "      <td>NaN</td>\n",
       "      <td>...</td>\n",
       "      <td>NaN</td>\n",
       "      <td>NaN</td>\n",
       "      <td>NaN</td>\n",
       "      <td>NaN</td>\n",
       "      <td>NaN</td>\n",
       "      <td>NaN</td>\n",
       "      <td>NaN</td>\n",
       "      <td>some college credit, no degree</td>\n",
       "      <td>NaN</td>\n",
       "      <td>NaN</td>\n",
       "    </tr>\n",
       "  </tbody>\n",
       "</table>\n",
       "<p>5 rows × 113 columns</p>\n",
       "</div>"
      ],
      "text/plain": [
       "    Age  AttendedBootcamp  BootcampFinish  BootcampFullJobAfter  \\\n",
       "0  28.0               0.0             NaN                   NaN   \n",
       "1  22.0               0.0             NaN                   NaN   \n",
       "2  19.0               0.0             NaN                   NaN   \n",
       "3  26.0               0.0             NaN                   NaN   \n",
       "4  20.0               0.0             NaN                   NaN   \n",
       "\n",
       "   BootcampLoanYesNo  BootcampMonthsAgo BootcampName  BootcampPostSalary  \\\n",
       "0                NaN                NaN          NaN                 NaN   \n",
       "1                NaN                NaN          NaN                 NaN   \n",
       "2                NaN                NaN          NaN                 NaN   \n",
       "3                NaN                NaN          NaN                 NaN   \n",
       "4                NaN                NaN          NaN                 NaN   \n",
       "\n",
       "   BootcampRecommend  ChildrenNumber  ... ResourceSoloLearn  \\\n",
       "0                NaN             NaN  ...               NaN   \n",
       "1                NaN             NaN  ...               NaN   \n",
       "2                NaN             NaN  ...               NaN   \n",
       "3                NaN             NaN  ...               NaN   \n",
       "4                NaN             NaN  ...               NaN   \n",
       "\n",
       "   ResourceStackOverflow  ResourceTreehouse  ResourceUdacity  ResourceUdemy  \\\n",
       "0                    NaN                NaN              NaN            NaN   \n",
       "1                    NaN                NaN              NaN            1.0   \n",
       "2                    NaN                NaN              NaN            NaN   \n",
       "3                    NaN                NaN              NaN            NaN   \n",
       "4                    NaN                NaN              NaN            NaN   \n",
       "\n",
       "   ResourceW3Schools  ResourceYouTube  \\\n",
       "0                NaN              NaN   \n",
       "1                NaN              NaN   \n",
       "2                NaN              NaN   \n",
       "3                NaN              NaN   \n",
       "4                NaN              NaN   \n",
       "\n",
       "                              SchoolDegree              SchoolMajor  \\\n",
       "0           some college credit, no degree                      NaN   \n",
       "1           some college credit, no degree                      NaN   \n",
       "2  high school diploma or equivalent (GED)                      NaN   \n",
       "3                        bachelor's degree  Cinematography And Film   \n",
       "4           some college credit, no degree                      NaN   \n",
       "\n",
       "   StudentDebtOwe  \n",
       "0         20000.0  \n",
       "1             NaN  \n",
       "2             NaN  \n",
       "3          7000.0  \n",
       "4             NaN  \n",
       "\n",
       "[5 rows x 113 columns]"
      ]
     },
     "execution_count": 18,
     "metadata": {},
     "output_type": "execute_result"
    }
   ],
   "source": [
    "# Read with pandas--low_memory required to suppress errors about mixed data types\n",
    "fcc_new = pd.read_csv(file,encoding= 'iso-8859-1',low_memory=False)\n",
    "fcc_new.head()"
   ]
  },
  {
   "cell_type": "code",
   "execution_count": null,
   "metadata": {
    "collapsed": true
   },
   "outputs": [],
   "source": [
    "# Take only columns 0, 1, 2, 3, 4, 6, 7, 8, 9, 10, 11, 29, 30, 32, 36, 37, 45, 48, 56, 110, 111"
   ]
  },
  {
   "cell_type": "code",
   "execution_count": null,
   "metadata": {
    "collapsed": true
   },
   "outputs": [],
   "source": [
    "# Change reading 0 and 1 to No and Yes, respectively"
   ]
  },
  {
   "cell_type": "code",
   "execution_count": null,
   "metadata": {
    "collapsed": true
   },
   "outputs": [],
   "source": [
    "# Extract rows for only those who attended a bootcamp"
   ]
  },
  {
   "cell_type": "code",
   "execution_count": null,
   "metadata": {
    "collapsed": true
   },
   "outputs": [],
   "source": [
    "# Create DataFrame of the different boot camps that had a significant number of attendees"
   ]
  },
  {
   "cell_type": "code",
   "execution_count": null,
   "metadata": {
    "collapsed": true
   },
   "outputs": [],
   "source": [
    "# Count how many attendees of each bootcamp would recommend the bootcamp"
   ]
  },
  {
   "cell_type": "code",
   "execution_count": null,
   "metadata": {
    "collapsed": true
   },
   "outputs": [],
   "source": [
    "# Merge the two created data frames on the name of tbe bootcamp"
   ]
  },
  {
   "cell_type": "code",
   "execution_count": null,
   "metadata": {
    "collapsed": true
   },
   "outputs": [],
   "source": [
    "# Calculate percentage of eac bootcamp's students who are recommenders"
   ]
  },
  {
   "cell_type": "code",
   "execution_count": null,
   "metadata": {
    "collapsed": true
   },
   "outputs": [],
   "source": [
    "# Export to excel and remove index"
   ]
  }
 ],
 "metadata": {
  "anaconda-cloud": {},
  "kernelspec": {
   "display_name": "Python 3",
   "language": "python",
   "name": "python3"
  },
  "language_info": {
   "codemirror_mode": {
    "name": "ipython",
    "version": 3
   },
   "file_extension": ".py",
   "mimetype": "text/x-python",
   "name": "python",
   "nbconvert_exporter": "python",
   "pygments_lexer": "ipython3",
   "version": "3.8.3"
  }
 },
 "nbformat": 4,
 "nbformat_minor": 2
}
