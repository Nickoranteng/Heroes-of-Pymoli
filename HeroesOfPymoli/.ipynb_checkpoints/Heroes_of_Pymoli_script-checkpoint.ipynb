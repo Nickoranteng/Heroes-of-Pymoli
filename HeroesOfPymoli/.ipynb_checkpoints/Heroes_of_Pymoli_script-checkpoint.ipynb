{
 "cells": [
  {
   "cell_type": "code",
   "execution_count": 46,
   "metadata": {},
   "outputs": [
    {
     "data": {
      "text/html": [
       "<div>\n",
       "<style scoped>\n",
       "    .dataframe tbody tr th:only-of-type {\n",
       "        vertical-align: middle;\n",
       "    }\n",
       "\n",
       "    .dataframe tbody tr th {\n",
       "        vertical-align: top;\n",
       "    }\n",
       "\n",
       "    .dataframe thead th {\n",
       "        text-align: right;\n",
       "    }\n",
       "</style>\n",
       "<table border=\"1\" class=\"dataframe\">\n",
       "  <thead>\n",
       "    <tr style=\"text-align: right;\">\n",
       "      <th></th>\n",
       "      <th>Purchase ID</th>\n",
       "      <th>SN</th>\n",
       "      <th>Age</th>\n",
       "      <th>Gender</th>\n",
       "      <th>Item ID</th>\n",
       "      <th>Item Name</th>\n",
       "      <th>Price</th>\n",
       "    </tr>\n",
       "  </thead>\n",
       "  <tbody>\n",
       "    <tr>\n",
       "      <th>0</th>\n",
       "      <td>0</td>\n",
       "      <td>Lisim78</td>\n",
       "      <td>20</td>\n",
       "      <td>Male</td>\n",
       "      <td>108</td>\n",
       "      <td>Extraction, Quickblade Of Trembling Hands</td>\n",
       "      <td>3.53</td>\n",
       "    </tr>\n",
       "    <tr>\n",
       "      <th>1</th>\n",
       "      <td>1</td>\n",
       "      <td>Lisovynya38</td>\n",
       "      <td>40</td>\n",
       "      <td>Male</td>\n",
       "      <td>143</td>\n",
       "      <td>Frenzied Scimitar</td>\n",
       "      <td>1.56</td>\n",
       "    </tr>\n",
       "    <tr>\n",
       "      <th>2</th>\n",
       "      <td>2</td>\n",
       "      <td>Ithergue48</td>\n",
       "      <td>24</td>\n",
       "      <td>Male</td>\n",
       "      <td>92</td>\n",
       "      <td>Final Critic</td>\n",
       "      <td>4.88</td>\n",
       "    </tr>\n",
       "    <tr>\n",
       "      <th>3</th>\n",
       "      <td>3</td>\n",
       "      <td>Chamassasya86</td>\n",
       "      <td>24</td>\n",
       "      <td>Male</td>\n",
       "      <td>100</td>\n",
       "      <td>Blindscythe</td>\n",
       "      <td>3.27</td>\n",
       "    </tr>\n",
       "    <tr>\n",
       "      <th>4</th>\n",
       "      <td>4</td>\n",
       "      <td>Iskosia90</td>\n",
       "      <td>23</td>\n",
       "      <td>Male</td>\n",
       "      <td>131</td>\n",
       "      <td>Fury</td>\n",
       "      <td>1.44</td>\n",
       "    </tr>\n",
       "  </tbody>\n",
       "</table>\n",
       "</div>"
      ],
      "text/plain": [
       "   Purchase ID             SN  Age Gender  Item ID  \\\n",
       "0            0        Lisim78   20   Male      108   \n",
       "1            1    Lisovynya38   40   Male      143   \n",
       "2            2     Ithergue48   24   Male       92   \n",
       "3            3  Chamassasya86   24   Male      100   \n",
       "4            4      Iskosia90   23   Male      131   \n",
       "\n",
       "                                   Item Name  Price  \n",
       "0  Extraction, Quickblade Of Trembling Hands   3.53  \n",
       "1                          Frenzied Scimitar   1.56  \n",
       "2                               Final Critic   4.88  \n",
       "3                                Blindscythe   3.27  \n",
       "4                                       Fury   1.44  "
      ]
     },
     "execution_count": 46,
     "metadata": {},
     "output_type": "execute_result"
    }
   ],
   "source": [
    "import pandas as pd\n",
    "\n",
    "csv_data_path = \"Resources/purchase_data.csv\"\n",
    "\n",
    "Heroes_df = pd.read_csv(csv_data_path)\n",
    "Heroes_df.head()"
   ]
  },
  {
   "cell_type": "markdown",
   "metadata": {},
   "source": [
    "# Player Count"
   ]
  },
  {
   "cell_type": "code",
   "execution_count": 47,
   "metadata": {},
   "outputs": [
    {
     "name": "stdout",
     "output_type": "stream",
     "text": [
      "TOTAL NUMBER OF PLAYERS = 576\n"
     ]
    }
   ],
   "source": [
    "player_count = len(pd.value_counts(Heroes_df[\"SN\"]))\n",
    "print(f'TOTAL NUMBER OF PLAYERS = {player_count}')"
   ]
  },
  {
   "cell_type": "markdown",
   "metadata": {},
   "source": [
    "# Purchasing Analysis (Total)"
   ]
  },
  {
   "cell_type": "code",
   "execution_count": 48,
   "metadata": {},
   "outputs": [
    {
     "data": {
      "text/plain": [
       "179"
      ]
     },
     "execution_count": 48,
     "metadata": {},
     "output_type": "execute_result"
    }
   ],
   "source": [
    "# number of unique items\n",
    "Unique_items = len(pd.value_counts(Heroes_df[\"Item Name\"]))\n",
    "Unique_items"
   ]
  },
  {
   "cell_type": "code",
   "execution_count": 49,
   "metadata": {},
   "outputs": [
    {
     "data": {
      "text/plain": [
       "3.050987179487176"
      ]
     },
     "execution_count": 49,
     "metadata": {},
     "output_type": "execute_result"
    }
   ],
   "source": [
    "# CALCULATE THE AVERAGE PRICE\n",
    "Average_price= Heroes_df[\"Price\"].mean()\n",
    "Average_price\n"
   ]
  },
  {
   "cell_type": "code",
   "execution_count": 50,
   "metadata": {},
   "outputs": [
    {
     "data": {
      "text/plain": [
       "780"
      ]
     },
     "execution_count": 50,
     "metadata": {},
     "output_type": "execute_result"
    }
   ],
   "source": [
    "# TOTAL NUMBER OF PURCHASES\n",
    "total_purchase = pd.value_counts(Heroes_df[\"Purchase ID\"]).sum()\n",
    "total_purchase"
   ]
  },
  {
   "cell_type": "code",
   "execution_count": 51,
   "metadata": {},
   "outputs": [
    {
     "data": {
      "text/plain": [
       "2379.77"
      ]
     },
     "execution_count": 51,
     "metadata": {},
     "output_type": "execute_result"
    }
   ],
   "source": [
    "# Total Revenue\n",
    "total_revenue = Heroes_df[\"Price\"].sum()\n",
    "total_revenue"
   ]
  },
  {
   "cell_type": "code",
   "execution_count": 52,
   "metadata": {},
   "outputs": [
    {
     "data": {
      "text/html": [
       "<div>\n",
       "<style scoped>\n",
       "    .dataframe tbody tr th:only-of-type {\n",
       "        vertical-align: middle;\n",
       "    }\n",
       "\n",
       "    .dataframe tbody tr th {\n",
       "        vertical-align: top;\n",
       "    }\n",
       "\n",
       "    .dataframe thead th {\n",
       "        text-align: right;\n",
       "    }\n",
       "</style>\n",
       "<table border=\"1\" class=\"dataframe\">\n",
       "  <thead>\n",
       "    <tr style=\"text-align: right;\">\n",
       "      <th></th>\n",
       "      <th>Total number of players</th>\n",
       "      <th>Number of Unique Items</th>\n",
       "      <th>Average Purchase Price</th>\n",
       "      <th>Total Number of Purchases</th>\n",
       "      <th>Total Revenue</th>\n",
       "    </tr>\n",
       "  </thead>\n",
       "  <tbody>\n",
       "    <tr>\n",
       "      <th>0</th>\n",
       "      <td>576</td>\n",
       "      <td>179</td>\n",
       "      <td>$3.05</td>\n",
       "      <td>780</td>\n",
       "      <td>$2379.77</td>\n",
       "    </tr>\n",
       "  </tbody>\n",
       "</table>\n",
       "</div>"
      ],
      "text/plain": [
       "   Total number of players  Number of Unique Items Average Purchase Price  \\\n",
       "0                      576                     179                  $3.05   \n",
       "\n",
       "   Total Number of Purchases Total Revenue  \n",
       "0                        780      $2379.77  "
      ]
     },
     "execution_count": 52,
     "metadata": {},
     "output_type": "execute_result"
    }
   ],
   "source": [
    "# print summary of purchasing analysis\n",
    "summary_Purchase_Ana = {\"Total number of players\" : [player_count],\n",
    "                \"Number of Unique Items\" : [Unique_items],\n",
    "                \"Average Purchase Price\" : [Average_price],\n",
    "                \"Total Number of Purchases\" : [total_purchase],\n",
    "                \"Total Revenue\" : [total_revenue]}\n",
    "Purchasing_df = pd.DataFrame(summary_Purchase_Ana)\n",
    "Purchasing_df[\"Average Purchase Price\"] = Purchasing_df[\"Average Purchase Price\"].map(\"${0:.2f}\".format)\n",
    "Purchasing_df[\"Total Revenue\"] = Purchasing_df[\"Total Revenue\"].map(\"${0:.2f}\".format)\n",
    "Purchasing_df"
   ]
  },
  {
   "cell_type": "markdown",
   "metadata": {},
   "source": [
    "# Gender Demographics"
   ]
  },
  {
   "cell_type": "code",
   "execution_count": 53,
   "metadata": {},
   "outputs": [
    {
     "name": "stdout",
     "output_type": "stream",
     "text": [
      "Male player count  =  484\n",
      "Percent Male count =  84.03%\n"
     ]
    }
   ],
   "source": [
    "# Count and Percentage of Male Players\n",
    "\n",
    "M_players = Heroes_df.loc[Heroes_df[\"Gender\"] == \"Male\"]\n",
    "M_count = len(M_players[\"SN\"].unique())\n",
    "M_percent = \"{:.2f}%\".format(M_count / player_count * 100)\n",
    "\n",
    "print(f'Male player count  =  {M_count}')\n",
    "print(f'Percent Male count =  {M_percent}')\n"
   ]
  },
  {
   "cell_type": "code",
   "execution_count": 54,
   "metadata": {},
   "outputs": [
    {
     "name": "stdout",
     "output_type": "stream",
     "text": [
      "Female player count  =   81\n",
      "Percent Female count =   14.06%\n"
     ]
    }
   ],
   "source": [
    "\n",
    "# Count and Percentage of Female Players\n",
    "F_players = Heroes_df.loc[Heroes_df[\"Gender\"] == \"Female\"]\n",
    "F_count = len(F_players[\"SN\"].unique())\n",
    "F_percent = \"{:.2f}%\".format(F_count / player_count * 100)\n",
    "\n",
    "print(f'Female player count  =   {F_count}')\n",
    "print(f'Percent Female count =   {F_percent}')\n",
    "\n"
   ]
  },
  {
   "cell_type": "code",
   "execution_count": 55,
   "metadata": {},
   "outputs": [
    {
     "name": "stdout",
     "output_type": "stream",
     "text": [
      "Other Non Disclosed Count   =   11\n",
      "Percent Other Non Disclosed =   1.91%\n"
     ]
    }
   ],
   "source": [
    "# Count and Percentage of Other / Non-Disclosed\n",
    "other_players_non_discl = Heroes_df.loc[Heroes_df[\"Gender\"] == \"Other / Non-Disclosed\"]\n",
    "other_players_count = len(other_players_non_discl[\"SN\"].unique())\n",
    "other_players_percent = \"{:.2f}%\".format(other_players_count / player_count * 100)\n",
    "\n",
    "print(f'Other Non Disclosed Count   =   {other_players_count}')\n",
    "print(f'Percent Other Non Disclosed =   {other_players_percent}')"
   ]
  },
  {
   "cell_type": "code",
   "execution_count": 56,
   "metadata": {},
   "outputs": [
    {
     "data": {
      "text/html": [
       "<div>\n",
       "<style scoped>\n",
       "    .dataframe tbody tr th:only-of-type {\n",
       "        vertical-align: middle;\n",
       "    }\n",
       "\n",
       "    .dataframe tbody tr th {\n",
       "        vertical-align: top;\n",
       "    }\n",
       "\n",
       "    .dataframe thead th {\n",
       "        text-align: right;\n",
       "    }\n",
       "</style>\n",
       "<table border=\"1\" class=\"dataframe\">\n",
       "  <thead>\n",
       "    <tr style=\"text-align: right;\">\n",
       "      <th></th>\n",
       "      <th>Total Count</th>\n",
       "      <th>Percentage of Players</th>\n",
       "    </tr>\n",
       "  </thead>\n",
       "  <tbody>\n",
       "    <tr>\n",
       "      <th>Male</th>\n",
       "      <td>484</td>\n",
       "      <td>84.03%</td>\n",
       "    </tr>\n",
       "    <tr>\n",
       "      <th>Female</th>\n",
       "      <td>81</td>\n",
       "      <td>14.06%</td>\n",
       "    </tr>\n",
       "    <tr>\n",
       "      <th>Other / Non-Disclosed</th>\n",
       "      <td>11</td>\n",
       "      <td>1.91%</td>\n",
       "    </tr>\n",
       "  </tbody>\n",
       "</table>\n",
       "</div>"
      ],
      "text/plain": [
       "                       Total Count Percentage of Players\n",
       "Male                           484                84.03%\n",
       "Female                          81                14.06%\n",
       "Other / Non-Disclosed           11                 1.91%"
      ]
     },
     "execution_count": 56,
     "metadata": {},
     "output_type": "execute_result"
    }
   ],
   "source": [
    "# Create Summary DataFrame\n",
    "gender_demographics = pd.DataFrame([{\n",
    "    \"Gender\": \"Male\", \"Total Count\": M_count, \n",
    "    \"Percentage of Players\": M_percent}, \n",
    "    {\"Gender\": \"Female\", \"Total Count\": F_count, \n",
    "     \"Percentage of Players\": F_percent}, \n",
    "    {\"Gender\": \"Other / Non-Disclosed\", \"Total Count\": other_players_count, \n",
    "     \"Percentage of Players\": other_players_percent\n",
    "    }], columns=[\"Gender\", \"Total Count\", \"Percentage of Players\"])\n",
    "\n",
    "gender_demographics = gender_demographics.set_index(\"Gender\")\n",
    "gender_demographics.index.name = None\n",
    "gender_demographics"
   ]
  },
  {
   "cell_type": "markdown",
   "metadata": {},
   "source": [
    "\n",
    "\n",
    "# Purchasing Analysis (Gender)\n",
    "\n"
   ]
  },
  {
   "cell_type": "code",
   "execution_count": 57,
   "metadata": {},
   "outputs": [
    {
     "data": {
      "text/html": [
       "<div>\n",
       "<style scoped>\n",
       "    .dataframe tbody tr th:only-of-type {\n",
       "        vertical-align: middle;\n",
       "    }\n",
       "\n",
       "    .dataframe tbody tr th {\n",
       "        vertical-align: top;\n",
       "    }\n",
       "\n",
       "    .dataframe thead th {\n",
       "        text-align: right;\n",
       "    }\n",
       "</style>\n",
       "<table border=\"1\" class=\"dataframe\">\n",
       "  <thead>\n",
       "    <tr style=\"text-align: right;\">\n",
       "      <th></th>\n",
       "      <th>Purchase Count</th>\n",
       "      <th>Average Purchase Price</th>\n",
       "      <th>Total Purchase Value</th>\n",
       "      <th>Avg Total Purchase per Person</th>\n",
       "    </tr>\n",
       "  </thead>\n",
       "  <tbody>\n",
       "    <tr>\n",
       "      <th>Male</th>\n",
       "      <td>652</td>\n",
       "      <td>$3.02</td>\n",
       "      <td>$1,967.64</td>\n",
       "      <td>$4.07</td>\n",
       "    </tr>\n",
       "    <tr>\n",
       "      <th>Female</th>\n",
       "      <td>113</td>\n",
       "      <td>$3.20</td>\n",
       "      <td>$361.94</td>\n",
       "      <td>$4.47</td>\n",
       "    </tr>\n",
       "    <tr>\n",
       "      <th>Other / Non-Disclosed</th>\n",
       "      <td>15</td>\n",
       "      <td>$3.35</td>\n",
       "      <td>$50.19</td>\n",
       "      <td>$4.56</td>\n",
       "    </tr>\n",
       "  </tbody>\n",
       "</table>\n",
       "</div>"
      ],
      "text/plain": [
       "                       Purchase Count Average Purchase Price  \\\n",
       "Male                              652                  $3.02   \n",
       "Female                            113                  $3.20   \n",
       "Other / Non-Disclosed              15                  $3.35   \n",
       "\n",
       "                      Total Purchase Value Avg Total Purchase per Person  \n",
       "Male                             $1,967.64                         $4.07  \n",
       "Female                             $361.94                         $4.47  \n",
       "Other / Non-Disclosed               $50.19                         $4.56  "
      ]
     },
     "execution_count": 57,
     "metadata": {},
     "output_type": "execute_result"
    }
   ],
   "source": [
    "# Purchase Count of Male Players\n",
    "m_purchase = Heroes_df.loc[Heroes_df[\"Gender\"] == \"Male\", :]\n",
    "m_purchase_count = len(m_purchase)\n",
    "\n",
    "# Average Purchase Price of Male Players\n",
    "avg_male_purchase_price = Heroes_df.loc[Heroes_df[\"Gender\"] == \"Male\", [\"Price\"]].mean()\n",
    "\n",
    "# Total Purchase Value of Male Players\n",
    "total_male_purchase_value = Heroes_df.loc[Heroes_df[\"Gender\"] == \"Male\", [\"Price\"]].sum()\n",
    "\n",
    "# Purchase Count of Female Players\n",
    "f_purchase = Heroes_df.loc[Heroes_df[\"Gender\"] == \"Female\", :]\n",
    "f_purchase_count = len(f_purchase)\n",
    "\n",
    "# Average Purchase Price of Female Players\n",
    "avg_female_purchase_price = Heroes_df.loc[Heroes_df[\"Gender\"] == \"Female\", [\"Price\"]].mean()\n",
    "\n",
    "# Total Purchase Value of Female Players\n",
    "total_female_purchase_value = Heroes_df.loc[Heroes_df[\"Gender\"] == \"Female\", [\"Price\"]].sum()\n",
    "\n",
    "# Purchase Count of Other / Non-Disclosed Players\n",
    "other_purchase = Heroes_df.loc[Heroes_df[\"Gender\"] == \"Other / Non-Disclosed\", :]\n",
    "other_purchase_count = len(other_purchase)\n",
    "\n",
    "# Average Purchase Price of Other / Non-Disclosed Players\n",
    "avg_other_purchase_price = Heroes_df.loc[Heroes_df[\"Gender\"] == \"Other / Non-Disclosed\", [\"Price\"]].mean()\n",
    "\n",
    "# Total Purchase Value of Other / Non-Disclosed Players\n",
    "total_other_purchase_value = Heroes_df.loc[Heroes_df[\"Gender\"] == \"Other / Non-Disclosed\", [\"Price\"]].sum()\n",
    "\n",
    "# Average Purchase Total per Person by Gender\n",
    "avg_m_purchase_total_person = total_male_purchase_value / M_count\n",
    "avg_f_purchase_total_person = total_female_purchase_value / F_count\n",
    "avg_other_purchase_total_person = total_other_purchase_value / other_players_count\n",
    "\n",
    "\n",
    "# Create Summary DataFrame\n",
    "gender_purchasing_analysis  = pd.DataFrame([{\n",
    "     \"Gender\": \"Male\", \"Purchase Count\": m_purchase_count, \n",
    "     \"Average Purchase Price\": \"${:.2f}\".format(avg_male_purchase_price[0]), \n",
    "     \"Total Purchase Value\": \"${:,.2f}\".format(total_male_purchase_value[0]), \n",
    "     \"Avg Total Purchase per Person\": \"${:.2f}\".format(avg_m_purchase_total_person[0])}, \n",
    "    \n",
    "   { \"Gender\": \"Female\", \"Purchase Count\": f_purchase_count, \n",
    "     \"Average Purchase Price\": \"${:.2f}\".format(avg_female_purchase_price[0]), \n",
    "     \"Total Purchase Value\": \"${:.2f}\".format(total_female_purchase_value[0]), \n",
    "     \"Avg Total Purchase per Person\": \"${:.2f}\".format(avg_f_purchase_total_person[0])}, \n",
    "    \n",
    "    {\"Gender\": \"Other / Non-Disclosed\", \"Purchase Count\": other_purchase_count, \n",
    "     \"Average Purchase Price\": \"${:.2f}\".format(avg_other_purchase_price[0]), \n",
    "     \"Total Purchase Value\": \"${:.2f}\".format(total_other_purchase_value[0]), \n",
    "     \"Avg Total Purchase per Person\": \"${:.2f}\".format(avg_other_purchase_total_person[0])\n",
    "    }], columns=[\"Gender\", \"Purchase Count\", \"Average Purchase Price\", \"Total Purchase Value\", \"Avg Total Purchase per Person\"])\n",
    "\n",
    "gender_purchasing_analysis = gender_purchasing_analysis.set_index(\"Gender\")\n",
    "gender_purchasing_analysis.index.name = None\n",
    "gender_purchasing_analysis\n",
    "\n",
    "                                            \n",
    "                                         "
   ]
  },
  {
   "cell_type": "markdown",
   "metadata": {},
   "source": [
    "\n",
    "\n",
    "# Age Demographics\n",
    "\n"
   ]
  },
  {
   "cell_type": "code",
   "execution_count": 58,
   "metadata": {},
   "outputs": [
    {
     "data": {
      "text/html": [
       "<div>\n",
       "<style scoped>\n",
       "    .dataframe tbody tr th:only-of-type {\n",
       "        vertical-align: middle;\n",
       "    }\n",
       "\n",
       "    .dataframe tbody tr th {\n",
       "        vertical-align: top;\n",
       "    }\n",
       "\n",
       "    .dataframe thead th {\n",
       "        text-align: right;\n",
       "    }\n",
       "</style>\n",
       "<table border=\"1\" class=\"dataframe\">\n",
       "  <thead>\n",
       "    <tr style=\"text-align: right;\">\n",
       "      <th></th>\n",
       "      <th>Total Count</th>\n",
       "      <th>Percentage of Players</th>\n",
       "    </tr>\n",
       "  </thead>\n",
       "  <tbody>\n",
       "    <tr>\n",
       "      <th>&lt;10</th>\n",
       "      <td>17</td>\n",
       "      <td>2.95%</td>\n",
       "    </tr>\n",
       "    <tr>\n",
       "      <th>10-14</th>\n",
       "      <td>22</td>\n",
       "      <td>3.82%</td>\n",
       "    </tr>\n",
       "    <tr>\n",
       "      <th>15-19</th>\n",
       "      <td>107</td>\n",
       "      <td>18.58%</td>\n",
       "    </tr>\n",
       "    <tr>\n",
       "      <th>20-24</th>\n",
       "      <td>258</td>\n",
       "      <td>44.79%</td>\n",
       "    </tr>\n",
       "    <tr>\n",
       "      <th>25-29</th>\n",
       "      <td>77</td>\n",
       "      <td>13.37%</td>\n",
       "    </tr>\n",
       "    <tr>\n",
       "      <th>30-34</th>\n",
       "      <td>52</td>\n",
       "      <td>9.03%</td>\n",
       "    </tr>\n",
       "    <tr>\n",
       "      <th>35-39</th>\n",
       "      <td>31</td>\n",
       "      <td>5.38%</td>\n",
       "    </tr>\n",
       "    <tr>\n",
       "      <th>40+</th>\n",
       "      <td>12</td>\n",
       "      <td>2.08%</td>\n",
       "    </tr>\n",
       "  </tbody>\n",
       "</table>\n",
       "</div>"
      ],
      "text/plain": [
       "       Total Count Percentage of Players\n",
       "<10             17                 2.95%\n",
       "10-14           22                 3.82%\n",
       "15-19          107                18.58%\n",
       "20-24          258                44.79%\n",
       "25-29           77                13.37%\n",
       "30-34           52                 9.03%\n",
       "35-39           31                 5.38%\n",
       "40+             12                 2.08%"
      ]
     },
     "execution_count": 58,
     "metadata": {},
     "output_type": "execute_result"
    }
   ],
   "source": [
    "# Establish Bins for Ages & Create Corresponding Names For Bins\n",
    "age_bins = [0, 9, 14, 19, 24, 29, 34, 39, 46]\n",
    "groups_names = [\"<10\", \"10-14\", \"15-19\", \"20-24\", \"25-29\", \"30-34\", \"35-39\", \"40+\"]\n",
    "\n",
    "# Place Data Series Into New Column Inside DataFrame\n",
    "Heroes_df[\"Age Group\"] = pd.cut(Heroes_df[\"Age\"], bins=age_bins, labels=groups_names)\n",
    "Heroes_df\n",
    "\n",
    "# Create a GroupBy Object Based Upon \"Age Group\"\n",
    "age_group = Heroes_df.groupby(\"Age Group\")\n",
    "\n",
    "# Count Total Players by Age Category\n",
    "total_count_age = age_group[\"SN\"].nunique()\n",
    "\n",
    "# Calculate Percentages by Age Category \n",
    "percentage_by_age = round(total_count_age / player_count * 100,2)\n",
    "\n",
    "# Create Summary DataFrame\n",
    "age_demographics = pd.DataFrame({\n",
    "    \"Total Count\": total_count_age, \n",
    "    \"Percentage of Players\": percentage_by_age\n",
    "})\n",
    "\n",
    "age_demographics[\"Percentage of Players\"] = age_demographics[\"Percentage of Players\"].map(\"{0:,.2f}%\".format)\n",
    "age_demographics.index.name = None\n",
    "age_demographics\n"
   ]
  },
  {
   "cell_type": "code",
   "execution_count": 59,
   "metadata": {},
   "outputs": [
    {
     "data": {
      "text/html": [
       "<div>\n",
       "<style scoped>\n",
       "    .dataframe tbody tr th:only-of-type {\n",
       "        vertical-align: middle;\n",
       "    }\n",
       "\n",
       "    .dataframe tbody tr th {\n",
       "        vertical-align: top;\n",
       "    }\n",
       "\n",
       "    .dataframe thead th {\n",
       "        text-align: right;\n",
       "    }\n",
       "</style>\n",
       "<table border=\"1\" class=\"dataframe\">\n",
       "  <thead>\n",
       "    <tr style=\"text-align: right;\">\n",
       "      <th></th>\n",
       "      <th>Purchase Count</th>\n",
       "      <th>Average Purchase Price</th>\n",
       "      <th>Total Purchase Value</th>\n",
       "      <th>Avg Total Purchase per Person</th>\n",
       "    </tr>\n",
       "  </thead>\n",
       "  <tbody>\n",
       "    <tr>\n",
       "      <th>&lt;10</th>\n",
       "      <td>23</td>\n",
       "      <td>$3.35</td>\n",
       "      <td>$77.13</td>\n",
       "      <td>$4.54</td>\n",
       "    </tr>\n",
       "    <tr>\n",
       "      <th>10-14</th>\n",
       "      <td>28</td>\n",
       "      <td>$2.96</td>\n",
       "      <td>$82.78</td>\n",
       "      <td>$3.76</td>\n",
       "    </tr>\n",
       "    <tr>\n",
       "      <th>15-19</th>\n",
       "      <td>136</td>\n",
       "      <td>$3.04</td>\n",
       "      <td>$412.89</td>\n",
       "      <td>$3.86</td>\n",
       "    </tr>\n",
       "    <tr>\n",
       "      <th>20-24</th>\n",
       "      <td>365</td>\n",
       "      <td>$3.05</td>\n",
       "      <td>$1,114.06</td>\n",
       "      <td>$4.32</td>\n",
       "    </tr>\n",
       "    <tr>\n",
       "      <th>25-29</th>\n",
       "      <td>101</td>\n",
       "      <td>$2.90</td>\n",
       "      <td>$293.00</td>\n",
       "      <td>$3.81</td>\n",
       "    </tr>\n",
       "  </tbody>\n",
       "</table>\n",
       "</div>"
      ],
      "text/plain": [
       "       Purchase Count Average Purchase Price Total Purchase Value  \\\n",
       "<10                23                  $3.35               $77.13   \n",
       "10-14              28                  $2.96               $82.78   \n",
       "15-19             136                  $3.04              $412.89   \n",
       "20-24             365                  $3.05            $1,114.06   \n",
       "25-29             101                  $2.90              $293.00   \n",
       "\n",
       "      Avg Total Purchase per Person  \n",
       "<10                           $4.54  \n",
       "10-14                         $3.76  \n",
       "15-19                         $3.86  \n",
       "20-24                         $4.32  \n",
       "25-29                         $3.81  "
      ]
     },
     "execution_count": 59,
     "metadata": {},
     "output_type": "execute_result"
    }
   ],
   "source": [
    "#Establish Bins for Ages & Create Corresponding Names For The Bins\n",
    "bins = [0, 9, 14, 19, 24, 29, 34, 39, 46]\n",
    "groups_names = [\"<10\", \"10-14\", \"15-19\", \"20-24\", \"25-29\", \"30-34\", \"35-39\", \"40+\"]\n",
    "\n",
    "# Place Data Series Into New Column Inside DataFrame\n",
    "Heroes_df[\"Age Group\"] = pd.cut(Heroes_df[\"Age\"], bins=age_bins, labels=groups_names)\n",
    "\n",
    "# Calculate \"Purchase Count\"\n",
    "age_purchase_count = age_group[\"SN\"].count()\n",
    "\n",
    "# Calculate \"Average Purchase Price\"\n",
    "avg_age_purchase_price = round(age_group[\"Price\"].mean(),2)\n",
    "\n",
    "# Calculate \"Total Purchase Value\"\n",
    "total_age_purchase_value = round(age_group[\"Price\"].sum(),2)\n",
    "\n",
    "# Calculate \"Avg Total Purchase per Person\"\n",
    "avg_total_age_purchase_person = round(total_age_purchase_value / total_count_age,2)\n",
    "\n",
    "# Create Summary DataFrame\n",
    "age_purchasing_analysis = pd.DataFrame({\n",
    "    \"Purchase Count\": age_purchase_count, \n",
    "    \"Average Purchase Price\": avg_age_purchase_price,\n",
    "    \"Total Purchase Value\": total_age_purchase_value,\n",
    "    \"Avg Total Purchase per Person\": avg_total_age_purchase_person\n",
    "})\n",
    "\n",
    "age_purchasing_analysis[\"Average Purchase Price\"] = age_purchasing_analysis[\"Average Purchase Price\"].map(\"${0:,.2f}\".format)\n",
    "age_purchasing_analysis[\"Total Purchase Value\"] = age_purchasing_analysis[\"Total Purchase Value\"].map(\"${0:,.2f}\".format)\n",
    "age_purchasing_analysis[\"Avg Total Purchase per Person\"] = age_purchasing_analysis[\"Avg Total Purchase per Person\"].map(\"${0:,.2f}\".format)\n",
    "age_purchasing_analysis.head()"
   ]
  },
  {
   "cell_type": "markdown",
   "metadata": {},
   "source": [
    "\n",
    "\n",
    "# Top 5 Spenders By Total Purchase Value\n",
    "\n"
   ]
  },
  {
   "cell_type": "code",
   "execution_count": 60,
   "metadata": {},
   "outputs": [
    {
     "data": {
      "text/html": [
       "<div>\n",
       "<style scoped>\n",
       "    .dataframe tbody tr th:only-of-type {\n",
       "        vertical-align: middle;\n",
       "    }\n",
       "\n",
       "    .dataframe tbody tr th {\n",
       "        vertical-align: top;\n",
       "    }\n",
       "\n",
       "    .dataframe thead th {\n",
       "        text-align: right;\n",
       "    }\n",
       "</style>\n",
       "<table border=\"1\" class=\"dataframe\">\n",
       "  <thead>\n",
       "    <tr style=\"text-align: right;\">\n",
       "      <th></th>\n",
       "      <th>Purchase Count</th>\n",
       "      <th>Average Purchase Price</th>\n",
       "      <th>Total Purchase Value</th>\n",
       "    </tr>\n",
       "    <tr>\n",
       "      <th>SN</th>\n",
       "      <th></th>\n",
       "      <th></th>\n",
       "      <th></th>\n",
       "    </tr>\n",
       "  </thead>\n",
       "  <tbody>\n",
       "    <tr>\n",
       "      <th>Lisosia93</th>\n",
       "      <td>5</td>\n",
       "      <td>$3.79</td>\n",
       "      <td>$18.96</td>\n",
       "    </tr>\n",
       "    <tr>\n",
       "      <th>Idastidru52</th>\n",
       "      <td>4</td>\n",
       "      <td>$3.86</td>\n",
       "      <td>$15.45</td>\n",
       "    </tr>\n",
       "    <tr>\n",
       "      <th>Chamjask73</th>\n",
       "      <td>3</td>\n",
       "      <td>$4.61</td>\n",
       "      <td>$13.83</td>\n",
       "    </tr>\n",
       "    <tr>\n",
       "      <th>Iral74</th>\n",
       "      <td>4</td>\n",
       "      <td>$3.40</td>\n",
       "      <td>$13.62</td>\n",
       "    </tr>\n",
       "    <tr>\n",
       "      <th>Iskadarya95</th>\n",
       "      <td>3</td>\n",
       "      <td>$4.37</td>\n",
       "      <td>$13.10</td>\n",
       "    </tr>\n",
       "  </tbody>\n",
       "</table>\n",
       "</div>"
      ],
      "text/plain": [
       "             Purchase Count Average Purchase Price Total Purchase Value\n",
       "SN                                                                     \n",
       "Lisosia93                 5                  $3.79               $18.96\n",
       "Idastidru52               4                  $3.86               $15.45\n",
       "Chamjask73                3                  $4.61               $13.83\n",
       "Iral74                    4                  $3.40               $13.62\n",
       "Iskadarya95               3                  $4.37               $13.10"
      ]
     },
     "execution_count": 60,
     "metadata": {},
     "output_type": "execute_result"
    }
   ],
   "source": [
    "# Identify the Top 5 Spenders in the Game by Total Purchase Value & GroupBy \"SN\"\n",
    "top_spenders = Heroes_df.groupby(\"SN\")\n",
    "\n",
    "# Calculate \"Purchase Count\"\n",
    "spender_purchase_count = top_spenders[\"Purchase ID\"].count()\n",
    "\n",
    "# Calculate \"Average Purchase Price\"\n",
    "average_spender_purchase_price = round(top_spenders[\"Price\"].mean(),2)\n",
    "\n",
    "# Calculate \"Total Purchase Value\"\n",
    "total_spender_purchase_value = top_spenders[\"Price\"].sum()\n",
    "\n",
    "# Create Summary DataFrame\n",
    "top_spenders_table = pd.DataFrame({ \n",
    "    \"Purchase Count\": spender_purchase_count,\n",
    "    \"Average Purchase Price\": average_spender_purchase_price,\n",
    "    \"Total Purchase Value\": total_spender_purchase_value\n",
    "})\n",
    "\n",
    "sort_top_spenders = top_spenders_table.sort_values([\"Total Purchase Value\"], ascending=False).head()\n",
    "sort_top_spenders[\"Average Purchase Price\"] = sort_top_spenders[\"Average Purchase Price\"].astype(float).map(\"${:,.2f}\".format)\n",
    "sort_top_spenders[\"Total Purchase Value\"] = sort_top_spenders[\"Total Purchase Value\"].astype(float).map(\"${:,.2f}\".format)\n",
    "sort_top_spenders.head()"
   ]
  },
  {
   "cell_type": "markdown",
   "metadata": {},
   "source": [
    "\n",
    "\n",
    "# 5 Most Popular Items By Purchase Count\n",
    "\n"
   ]
  },
  {
   "cell_type": "code",
   "execution_count": 61,
   "metadata": {},
   "outputs": [
    {
     "data": {
      "text/html": [
       "<div>\n",
       "<style scoped>\n",
       "    .dataframe tbody tr th:only-of-type {\n",
       "        vertical-align: middle;\n",
       "    }\n",
       "\n",
       "    .dataframe tbody tr th {\n",
       "        vertical-align: top;\n",
       "    }\n",
       "\n",
       "    .dataframe thead th {\n",
       "        text-align: right;\n",
       "    }\n",
       "</style>\n",
       "<table border=\"1\" class=\"dataframe\">\n",
       "  <thead>\n",
       "    <tr style=\"text-align: right;\">\n",
       "      <th></th>\n",
       "      <th></th>\n",
       "      <th>Purchase Count</th>\n",
       "      <th>Item Price</th>\n",
       "      <th>Total Purchase Value</th>\n",
       "    </tr>\n",
       "    <tr>\n",
       "      <th>Item ID</th>\n",
       "      <th>Item Name</th>\n",
       "      <th></th>\n",
       "      <th></th>\n",
       "      <th></th>\n",
       "    </tr>\n",
       "  </thead>\n",
       "  <tbody>\n",
       "    <tr>\n",
       "      <th>92</th>\n",
       "      <th>Final Critic</th>\n",
       "      <td>13</td>\n",
       "      <td>$4.61</td>\n",
       "      <td>$59.99</td>\n",
       "    </tr>\n",
       "    <tr>\n",
       "      <th>178</th>\n",
       "      <th>Oathbreaker, Last Hope of the Breaking Storm</th>\n",
       "      <td>12</td>\n",
       "      <td>$4.23</td>\n",
       "      <td>$50.76</td>\n",
       "    </tr>\n",
       "    <tr>\n",
       "      <th>145</th>\n",
       "      <th>Fiery Glass Crusader</th>\n",
       "      <td>9</td>\n",
       "      <td>$4.58</td>\n",
       "      <td>$41.22</td>\n",
       "    </tr>\n",
       "    <tr>\n",
       "      <th>132</th>\n",
       "      <th>Persuasion</th>\n",
       "      <td>9</td>\n",
       "      <td>$3.22</td>\n",
       "      <td>$28.99</td>\n",
       "    </tr>\n",
       "    <tr>\n",
       "      <th>108</th>\n",
       "      <th>Extraction, Quickblade Of Trembling Hands</th>\n",
       "      <td>9</td>\n",
       "      <td>$3.53</td>\n",
       "      <td>$31.77</td>\n",
       "    </tr>\n",
       "  </tbody>\n",
       "</table>\n",
       "</div>"
      ],
      "text/plain": [
       "                                                      Purchase Count  \\\n",
       "Item ID Item Name                                                      \n",
       "92      Final Critic                                              13   \n",
       "178     Oathbreaker, Last Hope of the Breaking Storm              12   \n",
       "145     Fiery Glass Crusader                                       9   \n",
       "132     Persuasion                                                 9   \n",
       "108     Extraction, Quickblade Of Trembling Hands                  9   \n",
       "\n",
       "                                                     Item Price  \\\n",
       "Item ID Item Name                                                 \n",
       "92      Final Critic                                      $4.61   \n",
       "178     Oathbreaker, Last Hope of the Breaking Storm      $4.23   \n",
       "145     Fiery Glass Crusader                              $4.58   \n",
       "132     Persuasion                                        $3.22   \n",
       "108     Extraction, Quickblade Of Trembling Hands         $3.53   \n",
       "\n",
       "                                                     Total Purchase Value  \n",
       "Item ID Item Name                                                          \n",
       "92      Final Critic                                               $59.99  \n",
       "178     Oathbreaker, Last Hope of the Breaking Storm               $50.76  \n",
       "145     Fiery Glass Crusader                                       $41.22  \n",
       "132     Persuasion                                                 $28.99  \n",
       "108     Extraction, Quickblade Of Trembling Hands                  $31.77  "
      ]
     },
     "execution_count": 61,
     "metadata": {},
     "output_type": "execute_result"
    }
   ],
   "source": [
    "# Identify the 5 Most Popular Items by Creating New DataFrame\n",
    "popular_items_list = Heroes_df[[\"Item ID\", \"Item Name\", \"Price\"]]\n",
    "\n",
    "# GroupBy \"Item ID\" & \"Item Name\"\n",
    "popular_items = popular_items_list.groupby([\"Item ID\",\"Item Name\"])\n",
    "\n",
    "# Calculate \"Purchase Count\"\n",
    "item_purchase_count = popular_items[\"Price\"].count()\n",
    "\n",
    "# Calculate \"Item Price\"\n",
    "item_price = popular_items[\"Price\"].sum()\n",
    "\n",
    "# Calculate \"Total Purchase Value\" \n",
    "item_purchase_value = item_price / item_purchase_count\n",
    "\n",
    "# Create Summary DataFrame\n",
    "most_popular_items = pd.DataFrame({\n",
    "    \"Purchase Count\": item_purchase_count, \n",
    "    \"Item Price\": item_purchase_value,\n",
    "    \"Total Purchase Value\": item_price\n",
    "})\n",
    "\n",
    "popular_items = most_popular_items.sort_values([\"Purchase Count\"], ascending=False).head()\n",
    "popular_items[\"Item Price\"] = popular_items[\"Item Price\"].astype(float).map(\"${:,.2f}\".format)\n",
    "popular_items[\"Total Purchase Value\"] = popular_items[\"Total Purchase Value\"].astype(float).map(\"${:,.2f}\".format)\n",
    "popular_items.head()"
   ]
  },
  {
   "cell_type": "markdown",
   "metadata": {},
   "source": [
    "#  5 Most Profitable Items By Purchase Value"
   ]
  },
  {
   "cell_type": "code",
   "execution_count": 62,
   "metadata": {},
   "outputs": [
    {
     "data": {
      "text/html": [
       "<div>\n",
       "<style scoped>\n",
       "    .dataframe tbody tr th:only-of-type {\n",
       "        vertical-align: middle;\n",
       "    }\n",
       "\n",
       "    .dataframe tbody tr th {\n",
       "        vertical-align: top;\n",
       "    }\n",
       "\n",
       "    .dataframe thead th {\n",
       "        text-align: right;\n",
       "    }\n",
       "</style>\n",
       "<table border=\"1\" class=\"dataframe\">\n",
       "  <thead>\n",
       "    <tr style=\"text-align: right;\">\n",
       "      <th></th>\n",
       "      <th></th>\n",
       "      <th>Purchase Count</th>\n",
       "      <th>Item Price</th>\n",
       "      <th>Total Purchase Value</th>\n",
       "    </tr>\n",
       "    <tr>\n",
       "      <th>Item ID</th>\n",
       "      <th>Item Name</th>\n",
       "      <th></th>\n",
       "      <th></th>\n",
       "      <th></th>\n",
       "    </tr>\n",
       "  </thead>\n",
       "  <tbody>\n",
       "    <tr>\n",
       "      <th>92</th>\n",
       "      <th>Final Critic</th>\n",
       "      <td>13</td>\n",
       "      <td>$4.61</td>\n",
       "      <td>$59.99</td>\n",
       "    </tr>\n",
       "    <tr>\n",
       "      <th>178</th>\n",
       "      <th>Oathbreaker, Last Hope of the Breaking Storm</th>\n",
       "      <td>12</td>\n",
       "      <td>$4.23</td>\n",
       "      <td>$50.76</td>\n",
       "    </tr>\n",
       "    <tr>\n",
       "      <th>82</th>\n",
       "      <th>Nirvana</th>\n",
       "      <td>9</td>\n",
       "      <td>$4.90</td>\n",
       "      <td>$44.10</td>\n",
       "    </tr>\n",
       "    <tr>\n",
       "      <th>145</th>\n",
       "      <th>Fiery Glass Crusader</th>\n",
       "      <td>9</td>\n",
       "      <td>$4.58</td>\n",
       "      <td>$41.22</td>\n",
       "    </tr>\n",
       "    <tr>\n",
       "      <th>103</th>\n",
       "      <th>Singed Scalpel</th>\n",
       "      <td>8</td>\n",
       "      <td>$4.35</td>\n",
       "      <td>$34.80</td>\n",
       "    </tr>\n",
       "  </tbody>\n",
       "</table>\n",
       "</div>"
      ],
      "text/plain": [
       "                                                      Purchase Count  \\\n",
       "Item ID Item Name                                                      \n",
       "92      Final Critic                                              13   \n",
       "178     Oathbreaker, Last Hope of the Breaking Storm              12   \n",
       "82      Nirvana                                                    9   \n",
       "145     Fiery Glass Crusader                                       9   \n",
       "103     Singed Scalpel                                             8   \n",
       "\n",
       "                                                     Item Price  \\\n",
       "Item ID Item Name                                                 \n",
       "92      Final Critic                                      $4.61   \n",
       "178     Oathbreaker, Last Hope of the Breaking Storm      $4.23   \n",
       "82      Nirvana                                           $4.90   \n",
       "145     Fiery Glass Crusader                              $4.58   \n",
       "103     Singed Scalpel                                    $4.35   \n",
       "\n",
       "                                                     Total Purchase Value  \n",
       "Item ID Item Name                                                          \n",
       "92      Final Critic                                               $59.99  \n",
       "178     Oathbreaker, Last Hope of the Breaking Storm               $50.76  \n",
       "82      Nirvana                                                    $44.10  \n",
       "145     Fiery Glass Crusader                                       $41.22  \n",
       "103     Singed Scalpel                                             $34.80  "
      ]
     },
     "execution_count": 62,
     "metadata": {},
     "output_type": "execute_result"
    }
   ],
   "source": [
    "popular_items = most_popular_items.sort_values([\"Total Purchase Value\"], ascending=False).head()\n",
    "popular_items[\"Item Price\"] = popular_items[\"Item Price\"].astype(float).map(\"${:,.2f}\".format)\n",
    "popular_items[\"Total Purchase Value\"] = popular_items[\"Total Purchase Value\"].astype(float).map(\"${:,.2f}\".format)\n",
    "popular_items.head()"
   ]
  },
  {
   "cell_type": "code",
   "execution_count": null,
   "metadata": {},
   "outputs": [],
   "source": []
  }
 ],
 "metadata": {
  "kernelspec": {
   "display_name": "Python 3",
   "language": "python",
   "name": "python3"
  },
  "language_info": {
   "codemirror_mode": {
    "name": "ipython",
    "version": 3
   },
   "file_extension": ".py",
   "mimetype": "text/x-python",
   "name": "python",
   "nbconvert_exporter": "python",
   "pygments_lexer": "ipython3",
   "version": "3.8.3"
  }
 },
 "nbformat": 4,
 "nbformat_minor": 4
}
